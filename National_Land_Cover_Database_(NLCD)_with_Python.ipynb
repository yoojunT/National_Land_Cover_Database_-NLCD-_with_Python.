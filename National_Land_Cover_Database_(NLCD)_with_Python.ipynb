{
  "nbformat": 4,
  "nbformat_minor": 0,
  "metadata": {
    "colab": {
      "provenance": [],
      "machine_shape": "hm",
      "authorship_tag": "ABX9TyP+Gix3ObL2BYCZ9th9ZNFO",
      "include_colab_link": true
    },
    "kernelspec": {
      "name": "python3",
      "display_name": "Python 3"
    },
    "language_info": {
      "name": "python"
    }
  },
  "cells": [
    {
      "cell_type": "markdown",
      "metadata": {
        "id": "view-in-github",
        "colab_type": "text"
      },
      "source": [
        "<a href=\"https://colab.research.google.com/github/yoojunT/National_Land_Cover_Database_Fetching-in_Python./blob/main/National_Land_Cover_Database_(NLCD)_with_Python.ipynb\" target=\"_parent\"><img src=\"https://colab.research.google.com/assets/colab-badge.svg\" alt=\"Open In Colab\"/></a>"
      ]
    },
    {
      "cell_type": "code",
      "execution_count": 1,
      "metadata": {
        "colab": {
          "base_uri": "https://localhost:8080/"
        },
        "id": "RfunrkURJb_g",
        "outputId": "bbd6e462-1813-4067-fe3d-f8918e875afe"
      },
      "outputs": [
        {
          "output_type": "stream",
          "name": "stdout",
          "text": [
            "Drive already mounted at /content/drive/; to attempt to forcibly remount, call drive.mount(\"/content/drive/\", force_remount=True).\n"
          ]
        }
      ],
      "source": [
        "# mount Google Drive\n",
        "from google.colab import drive\n",
        "drive.mount('/content/drive/')"
      ]
    },
    {
      "cell_type": "code",
      "source": [
        "!pip install rasterio\n",
        "!pip install --upgrade rasterio"
      ],
      "metadata": {
        "colab": {
          "base_uri": "https://localhost:8080/"
        },
        "id": "5T9MXvNfJjQr",
        "outputId": "32340997-1397-4894-c01f-a93662b56a35"
      },
      "execution_count": 2,
      "outputs": [
        {
          "output_type": "stream",
          "name": "stdout",
          "text": [
            "Requirement already satisfied: rasterio in /usr/local/lib/python3.10/dist-packages (1.3.9)\n",
            "Requirement already satisfied: affine in /usr/local/lib/python3.10/dist-packages (from rasterio) (2.4.0)\n",
            "Requirement already satisfied: attrs in /usr/local/lib/python3.10/dist-packages (from rasterio) (23.1.0)\n",
            "Requirement already satisfied: certifi in /usr/local/lib/python3.10/dist-packages (from rasterio) (2023.11.17)\n",
            "Requirement already satisfied: click>=4.0 in /usr/local/lib/python3.10/dist-packages (from rasterio) (8.1.7)\n",
            "Requirement already satisfied: cligj>=0.5 in /usr/local/lib/python3.10/dist-packages (from rasterio) (0.7.2)\n",
            "Requirement already satisfied: numpy in /usr/local/lib/python3.10/dist-packages (from rasterio) (1.23.5)\n",
            "Requirement already satisfied: snuggs>=1.4.1 in /usr/local/lib/python3.10/dist-packages (from rasterio) (1.4.7)\n",
            "Requirement already satisfied: click-plugins in /usr/local/lib/python3.10/dist-packages (from rasterio) (1.1.1)\n",
            "Requirement already satisfied: setuptools in /usr/local/lib/python3.10/dist-packages (from rasterio) (67.7.2)\n",
            "Requirement already satisfied: pyparsing>=2.1.6 in /usr/local/lib/python3.10/dist-packages (from snuggs>=1.4.1->rasterio) (3.1.1)\n",
            "Requirement already satisfied: rasterio in /usr/local/lib/python3.10/dist-packages (1.3.9)\n",
            "Requirement already satisfied: affine in /usr/local/lib/python3.10/dist-packages (from rasterio) (2.4.0)\n",
            "Requirement already satisfied: attrs in /usr/local/lib/python3.10/dist-packages (from rasterio) (23.1.0)\n",
            "Requirement already satisfied: certifi in /usr/local/lib/python3.10/dist-packages (from rasterio) (2023.11.17)\n",
            "Requirement already satisfied: click>=4.0 in /usr/local/lib/python3.10/dist-packages (from rasterio) (8.1.7)\n",
            "Requirement already satisfied: cligj>=0.5 in /usr/local/lib/python3.10/dist-packages (from rasterio) (0.7.2)\n",
            "Requirement already satisfied: numpy in /usr/local/lib/python3.10/dist-packages (from rasterio) (1.23.5)\n",
            "Requirement already satisfied: snuggs>=1.4.1 in /usr/local/lib/python3.10/dist-packages (from rasterio) (1.4.7)\n",
            "Requirement already satisfied: click-plugins in /usr/local/lib/python3.10/dist-packages (from rasterio) (1.1.1)\n",
            "Requirement already satisfied: setuptools in /usr/local/lib/python3.10/dist-packages (from rasterio) (67.7.2)\n",
            "Requirement already satisfied: pyparsing>=2.1.6 in /usr/local/lib/python3.10/dist-packages (from snuggs>=1.4.1->rasterio) (3.1.1)\n"
          ]
        }
      ]
    },
    {
      "cell_type": "code",
      "source": [
        "# Import Libraries\n",
        "import rasterio\n",
        "import os\n",
        "import pyproj\n",
        "from rasterio.transform import rowcol\n",
        "import geopandas as gpd\n",
        "from shapely.geometry import box\n",
        "import matplotlib.pyplot as plt"
      ],
      "metadata": {
        "id": "_GJYzmjLnp-E"
      },
      "execution_count": 3,
      "outputs": []
    },
    {
      "cell_type": "code",
      "source": [
        "# Download National Land Cover Database (NLCD)at https://www.mrlc.gov/data?f%5B0%5D=category%3ALand%20Cover&f%5B1%5D=region%3Aconus&f%5B2%5D=year%3A2021\n",
        "\n",
        "# Define the path to your raster file\n",
        "folder_path = '{your_folder_path}}'\n",
        "\n",
        "img_file_name = 'nlcd_2021_land_cover_l48_20230630.img'\n",
        "ige_file_name = 'nlcd_2021_land_cover_l48_20230630.ige'\n",
        "\n",
        "img_file_path = os.path.join(folder_path, img_file_name)\n",
        "ige_file_path = os.path.join(folder_path, ige_file_name)\n",
        "\n",
        "# Check if the file exists\n",
        "print(os.path.exists(img_file_path))\n",
        "print(os.path.exists(ige_file_path))"
      ],
      "metadata": {
        "colab": {
          "base_uri": "https://localhost:8080/"
        },
        "id": "9rwxw8YdqwvQ",
        "outputId": "96c9eee0-3975-48dc-9eec-ccfb114b5435"
      },
      "execution_count": 4,
      "outputs": [
        {
          "output_type": "stream",
          "name": "stdout",
          "text": [
            "True\n",
            "True\n"
          ]
        }
      ]
    },
    {
      "cell_type": "code",
      "source": [
        "# Open the raster dataset\n",
        "dataset = rasterio.open(img_file_path)\n",
        "\n",
        "# Extract the bounding box coordinates\n",
        "left, bottom, right, top = dataset.bounds\n",
        "\n",
        "# Define the original CRS and the target CRS (WGS84)\n",
        "original_crs = dataset.crs\n",
        "target_crs = 'EPSG:4326'\n",
        "\n",
        "# Create a PyProj transformer to perform the coordinate transformation\n",
        "transformer = pyproj.Transformer.from_crs(original_crs, target_crs, always_xy=True)\n",
        "\n",
        "# Transform the bounding box coordinates to WGS84\n",
        "left_wgs84, bottom_wgs84 = transformer.transform(left, bottom)\n",
        "right_wgs84, top_wgs84 = transformer.transform(right, top)\n",
        "\n",
        "# Create a bounding box geometry in WGS84\n",
        "bbox_geometry_wgs84 = box(left_wgs84, bottom_wgs84, right_wgs84, top_wgs84)\n",
        "\n",
        "# Create a GeoDataFrame with the bounding box geometry in WGS84\n",
        "bbox_gdf_wgs84 = gpd.GeoDataFrame({'geometry': [bbox_geometry_wgs84]}, crs=target_crs)\n",
        "\n",
        "# Create a plot\n",
        "fig, ax = plt.subplots(figsize=(10, 10))\n",
        "\n",
        "# Plot the bounding box in WGS84\n",
        "bbox_gdf_wgs84.plot(ax=ax, alpha=0.5, edgecolor='red', linewidth=2)\n",
        "\n",
        "# Show the plot\n",
        "plt.show()"
      ],
      "metadata": {
        "colab": {
          "base_uri": "https://localhost:8080/",
          "height": 525
        },
        "id": "krYA6us7lBg2",
        "outputId": "f3361518-78b7-4765-9c29-d52261137867"
      },
      "execution_count": 5,
      "outputs": [
        {
          "output_type": "display_data",
          "data": {
            "text/plain": [
              "<Figure size 1000x1000 with 1 Axes>"
            ],
            "image/png": "[encoded data removed]"
          },
          "metadata": {}
        }
      ]
    },
    {
      "cell_type": "code",
      "source": [
        "# Create a list of locations with their coordinates\n",
        "locations = [\n",
        "    {\"name\": \"New York City\", \"latitude\": 40.7128, \"longitude\": -74.0060},\n",
        "    {\"name\": \"Grand Canyon\", \"latitude\": 36.1070, \"longitude\": -112.1130},\n",
        "    {\"name\": \"Los Angeles\", \"latitude\": 34.0522, \"longitude\": -118.2437},\n",
        "    {\"name\": \"Houston\", \"latitude\": 29.7604, \"longitude\": -95.3698},\n",
        "]\n",
        "\n",
        "# Iterate through the list of locations\n",
        "for location in locations:\n",
        "    name = location[\"name\"]\n",
        "    latitude = location[\"latitude\"]\n",
        "    longitude = location[\"longitude\"]\n",
        "\n",
        "    # Reverse transform the latitude and longitude to the original CRS of the raster dataset\n",
        "    x, y = transformer.transform(longitude, latitude, direction='INVERSE')\n",
        "\n",
        "    # Read the pixel value at the transformed coordinates\n",
        "    pixel_values = [val for val in dataset.sample([(x, y)])]\n",
        "\n",
        "    # Print the pixel value\n",
        "    if pixel_values:\n",
        "        print(f\"{name} - Pixel Value:\", pixel_values[0])\n",
        "    else:\n",
        "        print(f\"No data found at {name} coordinates.\")"
      ],
      "metadata": {
        "colab": {
          "base_uri": "https://localhost:8080/"
        },
        "id": "B2IZvFbqg7AJ",
        "outputId": "2ced6500-2417-4acf-920c-37371cb11c61"
      },
      "execution_count": 6,
      "outputs": [
        {
          "output_type": "stream",
          "name": "stdout",
          "text": [
            "New York City - Pixel Value: [24]\n",
            "Grand Canyon - Pixel Value: [52]\n",
            "Los Angeles - Pixel Value: [24]\n",
            "Houston - Pixel Value: [24]\n"
          ]
        }
      ]
    }
  ]
}